{
 "cells": [
  {
   "cell_type": "code",
   "execution_count": 0,
   "metadata": {
    "colab": {},
    "colab_type": "code",
    "id": "dgxAPhMwyzza"
   },
   "outputs": [],
   "source": [
    "#Section to import all the required libraries\n",
    "from xclib.data import data_utils\n",
    "from sklearn.metrics import mean_squared_error\n",
    "from sklearn.ensemble import RandomForestRegressor\n",
    "from sklearn.ensemble import RandomForestClassifier\n",
    "from sklearn.metrics import f1_score, make_scorer\n",
    "from sklearn.model_selection import GridSearchCV\n",
    "from sklearn import metrics\n",
    "from math import sqrt\n",
    "import pandas as pd\n",
    "import numpy as np\n",
    "import sys\n",
    "from tqdm import tqdm\n",
    "import time\n",
    "import matplotlib.pyplot as plt"
   ]
  },
  {
   "cell_type": "code",
   "execution_count": null,
   "metadata": {},
   "outputs": [],
   "source": [
    "root_path = \"ass3_parta_data/\""
   ]
  },
  {
   "cell_type": "code",
   "execution_count": 0,
   "metadata": {
    "colab": {},
    "colab_type": "code",
    "id": "tYyss6bayfoE"
   },
   "outputs": [],
   "source": [
    "#Section to read the files from the system\n",
    "# f_train_x = sys.argv[1]\n",
    "# f_train_y = sys.argv[2]\n",
    "# f_test_x  = sys.argv[3]\n",
    "# f_test_y  = sys.argv[4]\n",
    "# f_val_x   = sys.argv[5]\n",
    "# f_val_y   = sys.argv[6]\n",
    "\n",
    "f_train_x = root_path+\"train_x.txt\"\n",
    "f_train_y = root_path+\"train_y.txt\" \n",
    "f_test_x  = root_path+\"test_x.txt\"\n",
    "f_test_y  = root_path+\"test_y.txt\"\n",
    "f_val_x   = root_path+\"valid_x.txt\"\n",
    "f_val_y   = root_path+\"valid_y.txt\""
   ]
  },
  {
   "cell_type": "code",
   "execution_count": 0,
   "metadata": {
    "colab": {},
    "colab_type": "code",
    "id": "nROhZrxuzAld"
   },
   "outputs": [],
   "source": [
    "def prepare_data(f_train_x,f_train_y,f_test_x,f_test_y,f_val_x,f_val_y):\n",
    "    train_x = data_utils.read_sparse_file(f_train_x).todense()\n",
    "    train_y = pd.read_csv(f_train_y, header=None)\n",
    "    train_y = np.array(train_y).reshape(len(train_y),) \n",
    "    \n",
    "    test_x = data_utils.read_sparse_file(f_test_x).todense()\n",
    "    test_y = pd.read_csv(f_test_y, header=None)\n",
    "    test_y = np.array(test_y).reshape(len(test_y),) \n",
    "    \n",
    "    val_x = data_utils.read_sparse_file(f_val_x).todense()\n",
    "    val_y = pd.read_csv(f_val_y, header=None)\n",
    "    val_y = np.array(val_y).reshape(len(val_y),) \n",
    "    \n",
    "    print('Shape of Trainig data :',train_x.shape,train_y.shape)\n",
    "    print('Shape of Testing data :',test_x.shape,test_y.shape)\n",
    "    print('Shape of Validation data :',val_x.shape,val_y.shape)\n",
    "    \n",
    "    return train_x,train_y,test_x,test_y,val_x,val_y\n"
   ]
  },
  {
   "cell_type": "code",
   "execution_count": 0,
   "metadata": {
    "colab": {
     "base_uri": "https://localhost:8080/",
     "height": 173
    },
    "colab_type": "code",
    "id": "GRQZsfnizD3j",
    "outputId": "e1612e64-4204-4d44-8976-d3d8be21d23f"
   },
   "outputs": [
    {
     "name": "stderr",
     "output_type": "stream",
     "text": [
      "/usr/local/lib/python3.6/dist-packages/xclib/data/data_utils.py:173: UserWarning: Header mis-match from inferred shape!\n",
      "  warnings.warn(\"Header mis-match from inferred shape!\")\n",
      "/usr/local/lib/python3.6/dist-packages/xclib/data/data_utils.py:173: UserWarning: Header mis-match from inferred shape!\n",
      "  warnings.warn(\"Header mis-match from inferred shape!\")\n",
      "/usr/local/lib/python3.6/dist-packages/xclib/data/data_utils.py:173: UserWarning: Header mis-match from inferred shape!\n",
      "  warnings.warn(\"Header mis-match from inferred shape!\")\n"
     ]
    },
    {
     "name": "stdout",
     "output_type": "stream",
     "text": [
      "Shape of Trainig data : (64713, 482) (64713,)\n",
      "Shape of Testing data : (21571, 482) (21571,)\n",
      "Shape of Validation data : (21572, 482) (21572,)\n"
     ]
    }
   ],
   "source": [
    "train_x,train_y,test_x,test_y,val_x,val_y = prepare_data(f_train_x,f_train_y,f_test_x,f_test_y,f_val_x,f_val_y)"
   ]
  },
  {
   "cell_type": "code",
   "execution_count": 0,
   "metadata": {
    "colab": {},
    "colab_type": "code",
    "id": "77FKZVcuYOfr"
   },
   "outputs": [],
   "source": [
    "def fit_model(estimator,feature,sample_split,oob_score_val,que_part):\n",
    "\n",
    "  if que_part == 'c':\n",
    "    print('RF model parameters :-','n_estimators :',estimator,',max_features :',feature,',min_samples_split :',sample_split,',oob_score :',oob_score_val)\n",
    "  \n",
    "  if que_part == 'd':\n",
    "    print('RF model parameters :-','n_estimators :',estimator,',max_features :',feature,',min_samples_split :',sample_split)\n",
    "  clf = clf=RandomForestClassifier(n_estimators=estimator,max_features=feature,min_samples_split=sample_split,oob_score=oob_score_val)\n",
    "  clf.fit(train_x,train_y)\n",
    "  #Que_1_C\n",
    "  if que_part == 'c':\n",
    "    print('Accuracy on training set :',clf.score(train_x,train_y))\n",
    "    print('Accuracy on testing set :',clf.score(test_x,test_y))\n",
    "    print('Accuracy on validation set :',clf.score(val_x,val_y))\n",
    "    print('Out of bag accuracy :',clf.oob_score_)\n",
    "  #Que_1_D\n",
    "  if que_part == 'd':\n",
    "    return clf.score(test_x,test_y),clf.score(val_x,val_y)\n"
   ]
  },
  {
   "cell_type": "code",
   "execution_count": 0,
   "metadata": {
    "colab": {},
    "colab_type": "code",
    "id": "CCc5DHeJ1bZD"
   },
   "outputs": [],
   "source": [
    "def return_accuracy(estimator,feature,min_sam_splt):\n",
    "  clf=RandomForestClassifier(n_estimators=estimator,max_features=feature,min_samples_split=min_sam_splt,n_jobs=-1,oob_score=True)\n",
    "  clf.fit(train_x,train_y)\n",
    "  test_accuracy = clf.score(test_x,test_y)\n",
    "  val_accuracy = clf.score(val_x,val_y)\n",
    "  return clf.oob_score_,test_accuracy,val_accuracy"
   ]
  },
  {
   "cell_type": "code",
   "execution_count": 0,
   "metadata": {
    "colab": {},
    "colab_type": "code",
    "id": "--9kT_gKzap7"
   },
   "outputs": [],
   "source": [
    "def cal_best_parameters():\n",
    "  list_accuracies = []\n",
    "  n_estimators = [50,150,250,350,450]\n",
    "  max_features = [0.1,0.3,0.5,0.7,0.9,1.0]\n",
    "  min_samples_split = [2,4,6,8,10]\n",
    "  max_accuracy = 0\n",
    "  for estimator in tqdm(n_estimators):\n",
    "    for feature in max_features:\n",
    "      for min_sam_splt in min_samples_split:\n",
    "        cur_accuracy,test_accuracy,val_accuracy = return_accuracy(estimator,feature,min_sam_splt)\n",
    "        list_accuracies.append((estimator,feature,min_sam_splt,test_accuracy,val_accuracy))\n",
    "        if cur_accuracy > max_accuracy:\n",
    "            max_accuracy = cur_accuracy\n",
    "            best_params = [estimator,feature,min_sam_splt]\n",
    "  print('Best parameters are :',best_params)\n",
    "  return best_params,list_accuracies"
   ]
  },
  {
   "cell_type": "code",
   "execution_count": 0,
   "metadata": {
    "colab": {},
    "colab_type": "code",
    "id": "vUGNIOk8Klqa"
   },
   "outputs": [],
   "source": [
    "# def cal_best_parameters():\n",
    "#   clf = RandomForestClassifier(oob_score=True)\n",
    "#   parameters = {'n_estimators':[150,250], 'max_features':[0.1,0.3],'min_samples_split':[6,8,10]}\n",
    "#   grid_obj = GridSearchCV(clf, parameters,cv=2, scoring='accuracy', refit=True)\n",
    "#   t0 = time.time()\n",
    "#   grid_fit = grid_obj.fit(train_x,train_y)\n",
    "#   print('Time taken calculate the GridSearchCV :',(time.time()-t0)/60)\n",
    "#   print('The best parameters are :',grid_fit.best_params_)\n",
    "#   print('Best sscore :',grid_fit.best_score_)\n",
    "#   return grid_fit.best_params_"
   ]
  },
  {
   "cell_type": "code",
   "execution_count": 0,
   "metadata": {
    "colab": {},
    "colab_type": "code",
    "id": "diZZTJ5KUJZS"
   },
   "outputs": [],
   "source": [
    "def cal_accuracies():\n",
    "  print('RF Model Accuracies with default parameters')\n",
    "  fit_model(100,'auto',2,True,'c')\n",
    "  #Best parameters are computer here\n",
    "  print('Calcuation of best parameters starts here..')\n",
    "  best_params,list_accuracies = cal_best_parameters()\n",
    "  estimator,feature,sample_split = best_params[0],best_params[1],best_params[2]\n",
    "  print('RF Model Accuracies with best parameters')\n",
    "  fit_model(estimator,feature,sample_split,True,'c')\n",
    "  \n",
    "  return best_params,list_accuracies\n"
   ]
  },
  {
   "cell_type": "code",
   "execution_count": 0,
   "metadata": {
    "colab": {
     "base_uri": "https://localhost:8080/",
     "height": 278
    },
    "colab_type": "code",
    "id": "XWukEyHb5AZy",
    "outputId": "57ac2893-a317-4eb9-927e-e5c75032cd93"
   },
   "outputs": [
    {
     "name": "stdout",
     "output_type": "stream",
     "text": [
      "RF Model Accuracies with default parameters\n",
      "RF model parameters :- n_estimators : 100 ,max_features : auto ,min_samples_split : 2 ,oob_score : True\n",
      "Accuracy on training set : 0.9126605164341013\n",
      "Accuracy on testing set : 0.7969959668072876\n"
     ]
    },
    {
     "name": "stderr",
     "output_type": "stream",
     "text": [
      "\r",
      "  0%|          | 0/5 [00:00<?, ?it/s]"
     ]
    },
    {
     "name": "stdout",
     "output_type": "stream",
     "text": [
      "Accuracy on validation set : 0.7957537548674207\n",
      "Out of bag accuracy : 0.8000556302443095\n",
      "Calcuation of best parameters starts here..\n"
     ]
    },
    {
     "name": "stderr",
     "output_type": "stream",
     "text": [
      "100%|██████████| 5/5 [1:22:33<00:00, 990.60s/it] \n"
     ]
    },
    {
     "name": "stdout",
     "output_type": "stream",
     "text": [
      "Best parameters are : [450, 0.1, 10]\n",
      "RF Model Accuracies with best parameters\n",
      "RF model parameters :- n_estimators : 450 ,max_features : 0.1 ,min_samples_split : 10 ,oob_score : True\n",
      "Accuracy on training set : 0.8734102885046281\n",
      "Accuracy on testing set : 0.8081220156691855\n",
      "Accuracy on validation set : 0.8067865751900611\n",
      "Out of bag accuracy : 0.8099609043005269\n"
     ]
    }
   ],
   "source": [
    "#--------------- Part_C\n",
    "best_params,list_accuracies = cal_accuracies()\n",
    "#-----------Part_d\n",
    "# plot_test_val(best_params[0],best_params[1],best_params[2])\n"
   ]
  },
  {
   "cell_type": "code",
   "execution_count": 0,
   "metadata": {
    "colab": {},
    "colab_type": "code",
    "id": "W9R6sDSzS0K9"
   },
   "outputs": [],
   "source": [
    "def plot_test_accuracy(title_text,X_label,Y_label,X_Axis,test_accuracies,val_accuracies):\n",
    "  plt.plot(X_Axis, test_accuracies, color='g',label=\"Test Accuracy\")\n",
    "  plt.plot(X_Axis, val_accuracies, color='orange',label=\"Validation Accuracy\")\n",
    "  plt.scatter(X_Axis,test_accuracies)\n",
    "  plt.scatter(X_Axis,val_accuracies)\n",
    "  plt.xlabel(X_label)\n",
    "  plt.ylabel(Y_label)\n",
    "  plt.title(title_text)\n",
    "  # plt.ylim(0.78,0.82)\n",
    "  plt.xticks(X_Axis)\n",
    "  plt.legend(loc='lower right')\n",
    "  plt.show()\n"
   ]
  },
  {
   "cell_type": "code",
   "execution_count": 0,
   "metadata": {
    "colab": {},
    "colab_type": "code",
    "id": "mq2TAd_4zqJX"
   },
   "outputs": [],
   "source": [
    "# ------------ Part d ----------\n",
    "def plot_test_val(estimator,feature,sample_split):\n",
    "  #n_estimators values vary\n",
    "  test_accuracies1 = []\n",
    "  val_accuracies1  = []\n",
    "  test_accuracies2 = []\n",
    "  val_accuracies2  = []\n",
    "  test_accuracies3 = []\n",
    "  val_accuracies3  = []\n",
    "  n = len(list_accuracies)\n",
    "  n_estimators = [50,150,250,350,450]\n",
    "  max_features = [0.1,0.3,0.5,0.7,0.9,1.0]\n",
    "  min_samples_split = [2,4,6,8,10]\n",
    "  for i in range(n):\n",
    "    if list_accuracies[i][1]==feature and list_accuracies[i][2]==sample_split and (list_accuracies[i][0] in n_estimators):\n",
    "       test_accuracies1.append(np.round(list_accuracies[i][3],3))\n",
    "       val_accuracies1.append(np.round(list_accuracies[i][4],3))\n",
    "      #  print('Test Accuracy 1 :',list_accuracies[i][3],\" Validation Accuracy 1 :\",list_accuracies[i][4])\n",
    "\n",
    "    if list_accuracies[i][0]==estimator and list_accuracies[i][2]==sample_split and (list_accuracies[i][1] in max_features):\n",
    "       test_accuracies2.append(np.round(list_accuracies[i][3],3))\n",
    "       val_accuracies2.append(np.round(list_accuracies[i][4],3))\n",
    "      #  print('Test Accuracy 2 :',list_accuracies[i][3],\" Validation Accuracy 2 :\",list_accuracies[i][4])\n",
    "\n",
    "    if list_accuracies[i][0]==estimator and list_accuracies[i][1]==feature and (list_accuracies[i][2] in min_samples_split):\n",
    "       test_accuracies3.append(np.round(list_accuracies[i][3],3))\n",
    "       val_accuracies3.append(np.round(list_accuracies[i][4],3))\n",
    "      #  print('Test Accuracy 3 :',list_accuracies[i][3],\" Validation Accuracy 3 :\",list_accuracies[i][4])\n",
    "    \n",
    "  #plot data\n",
    "  print('max_features and min_samples_split are fixed n_estimators varies for [50,150,250,350,450]')\n",
    "  print('Test Data Accuracy :',test_accuracies1)\n",
    "  print('Validation Data Accuracy :',val_accuracies1)\n",
    "  plot_test_accuracy('max_features and min_samples_split fixed','value of n_estimators','Accuracy',n_estimators,test_accuracies1,val_accuracies1)\n",
    "  print('n_estimators and min_samples_split are fixed max_features varies for [0.1,0.3,0.5,0.7,0.9,1.0]')\n",
    "  print('Test Data Accuracy :',test_accuracies2)\n",
    "  print('Validation Data Accuracy :',val_accuracies2)\n",
    "  plot_test_accuracy('n_estimators and min_samples_split fixed','value of max_features','Accuracy',max_features,test_accuracies2,val_accuracies2)\n",
    "  print('n_estimators and max_features are fixed min_samples_split varies for [2,4,6,8,10]')\n",
    "  print('Test Data Accuracy :',test_accuracies3)\n",
    "  print('Validation Data Accuracy :',val_accuracies3)\n",
    "  plot_test_accuracy('n_estimators and max_features fixed','value of min_samples_split','Accuracy',min_samples_split,test_accuracies3,val_accuracies3)\n",
    "\n"
   ]
  },
  {
   "cell_type": "code",
   "execution_count": 43,
   "metadata": {
    "colab": {
     "base_uri": "https://localhost:8080/",
     "height": 1000
    },
    "colab_type": "code",
    "id": "R4X1iTFEPsOh",
    "outputId": "093aa120-7908-4b94-d80b-2451e0c12e40"
   },
   "outputs": [
    {
     "name": "stdout",
     "output_type": "stream",
     "text": [
      "max_features and min_samples_split are fixed n_estimators varies for [50,150,250,350,450]\n",
      "Test Data Accuracy : [0.807, 0.808, 0.809, 0.808, 0.808]\n",
      "Validation Data Accuracy : [0.804, 0.806, 0.807, 0.807, 0.807]\n"
     ]
    },
    {
     "data": {
      "image/png": "[encoded data removed]",
      "text/plain": [
       "<Figure size 432x288 with 1 Axes>"
      ]
     },
     "metadata": {
      "tags": []
     },
     "output_type": "display_data"
    },
    {
     "name": "stdout",
     "output_type": "stream",
     "text": [
      "n_estimators and min_samples_split are fixed max_features varies for [0.1,0.3,0.5,0.7,0.9,1.0]\n",
      "Test Data Accuracy : [0.808, 0.809, 0.807, 0.807, 0.805, 0.805]\n",
      "Validation Data Accuracy : [0.807, 0.807, 0.806, 0.806, 0.805, 0.804]\n"
     ]
    },
    {
     "data": {
      "image/png": "[encoded data removed]",
      "text/plain": [
       "<Figure size 432x288 with 1 Axes>"
      ]
     },
     "metadata": {
      "tags": []
     },
     "output_type": "display_data"
    },
    {
     "name": "stdout",
     "output_type": "stream",
     "text": [
      "n_estimators and max_features are fixed min_samples_split varies for [2,4,6,8,10]\n",
      "Test Data Accuracy : [0.799, 0.804, 0.806, 0.807, 0.808]\n",
      "Validation Data Accuracy : [0.797, 0.801, 0.804, 0.805, 0.807]\n"
     ]
    },
    {
     "data": {
      "image/png": "[encoded data removed]",
      "text/plain": [
       "<Figure size 432x288 with 1 Axes>"
      ]
     },
     "metadata": {
      "tags": []
     },
     "output_type": "display_data"
    }
   ],
   "source": [
    "plot_test_val(best_params[0],best_params[1],best_params[2])"
   ]
  },
  {
   "cell_type": "code",
   "execution_count": 0,
   "metadata": {
    "colab": {},
    "colab_type": "code",
    "id": "Yd_VYesMjmwD"
   },
   "outputs": [],
   "source": []
  }
 ],
 "metadata": {
  "accelerator": "TPU",
  "colab": {
   "machine_shape": "hm",
   "name": "Q1_C_Loop",
   "provenance": []
  },
  "kernelspec": {
   "display_name": "Python 3",
   "language": "python",
   "name": "python3"
  },
  "language_info": {
   "codemirror_mode": {
    "name": "ipython",
    "version": 3
   },
   "file_extension": ".py",
   "mimetype": "text/x-python",
   "name": "python",
   "nbconvert_exporter": "python",
   "pygments_lexer": "ipython3",
   "version": "3.6.9"
  }
 },
 "nbformat": 4,
 "nbformat_minor": 1
}
